{
 "cells": [
  {
   "cell_type": "code",
   "execution_count": null,
   "id": "9fee13b7-0a12-4f9e-8abf-b8140297fee0",
   "metadata": {},
   "outputs": [],
   "source": [
    "df_cleaned['Activity'] = df_cleaned['Activity'].astype(str).str.title()\n",
    "def categorize_activity(activity):\n",
    "    if pd.isna(activity):\n",
    "        return 'Invalid Activity'\n",
    "        \n",
    "    activity = activity.lower()\n",
    "    \n",
    "    # Merge similar activities\n",
    "    if 'surf' in activity or 'boogie boarding' in activity or 'body boarding' in activity:\n",
    "        return 'Surfing'\n",
    "    elif 'swim' in activity or 'wading' in activity:\n",
    "        return 'Swimming'\n",
    "    elif 'fish' in activity or 'spearfishing' in activity:\n",
    "        return 'Fishing'\n",
    "    elif 'diving' in activity or 'scuba' in activity:\n",
    "        return 'Diving'\n",
    "    elif 'kayak' in activity:\n",
    "        return 'Kayaking'\n",
    "    elif 'snorkel' in activity:\n",
    "        return 'Snorkeling'\n",
    "    elif 'overboard' in activity or 'treading water' in activity:\n",
    "        return 'Boating Incident'\n",
    "    else:\n",
    "        return 'Other Activity' \n",
    "\n",
    "df_cleaned['Activity'] = df_cleaned['Activity'].apply(categorize_activity)\n",
    "\n",
    "df_cleaned.head(1000)"
   ]
  }
 ],
 "metadata": {
  "kernelspec": {
   "display_name": "Python 3 (ipykernel)",
   "language": "python",
   "name": "python3"
  },
  "language_info": {
   "codemirror_mode": {
    "name": "ipython",
    "version": 3
   },
   "file_extension": ".py",
   "mimetype": "text/x-python",
   "name": "python",
   "nbconvert_exporter": "python",
   "pygments_lexer": "ipython3",
   "version": "3.12.4"
  }
 },
 "nbformat": 4,
 "nbformat_minor": 5
}
