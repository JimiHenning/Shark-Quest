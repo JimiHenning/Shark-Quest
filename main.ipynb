{
 "cells": [
  {
   "cell_type": "markdown",
   "metadata": {},
   "source": [
    "# SHARK QUEST\n",
    "## New Kids On The Block\n",
    "\n"
   ]
  },
  {
   "cell_type": "markdown",
   "metadata": {},
   "source": [
    "# TODO\n",
    "\n",
    "## Selecting\n",
    "- Select relevant columns\n",
    "- Analyse relevant columns\n",
    "\n",
    "## Cleaning :\n",
    "- Cast to appropriate data types\n",
    "    - General cleaning\n",
    "        - identify duplicates\n",
    "            - fuzzy\n",
    "        - removing duplicates\n",
    "            - remove\n",
    "            - merge\n",
    "        - handling null values\n",
    "            - remove\n",
    "            - replace\n",
    "        - manipulating strings\n",
    "        - formatting the data.\n",
    "\n",
    "- Wrong inputs\n",
    "\n",
    "## Hypothesis\n",
    "- Location\n",
    "- Time\n",
    "- Species\n",
    "\n",
    "## Business cases"
   ]
  },
  {
   "cell_type": "code",
   "execution_count": 12,
   "metadata": {},
   "outputs": [],
   "source": [
    "import pandas as pd\n",
    "import re\n",
    "\n",
    "# Load the data\n",
    "raw_data = pd.read_excel('GSAF5.xls')\n",
    "\n",
    "#new_data.to_csv(\"shark_data.csv\")"
   ]
  },
  {
   "cell_type": "code",
   "execution_count": null,
   "metadata": {},
   "outputs": [],
   "source": [
    "raw_data.shape"
   ]
  },
  {
   "cell_type": "code",
   "execution_count": null,
   "metadata": {},
   "outputs": [],
   "source": [
    "raw_data.head()"
   ]
  },
  {
   "cell_type": "code",
   "execution_count": null,
   "metadata": {},
   "outputs": [],
   "source": [
    "#PRINT ALL COLUMNS WITH VALUE AND TYPE\n",
    "for col in raw_data.columns:\n",
    "\n",
    "    value = raw_data[col].iloc[0]\n",
    "    print(f\"Column: {col}, Value: {value}, Data Type of Column: {raw_data[col].dtypes}\\n\")"
   ]
  },
  {
   "cell_type": "code",
   "execution_count": 16,
   "metadata": {},
   "outputs": [],
   "source": [
    "# Source, PDF, Case Number as possible duplicate finder or year / date fill\n",
    "relevant_columns = ['Date','Year','Type','Country','State','Location','Activity','Name','Sex','Age','Injury','Time','Species','Source', 'pdf','href formula','href' ]"
   ]
  },
  {
   "cell_type": "code",
   "execution_count": null,
   "metadata": {},
   "outputs": [],
   "source": [
    "#PRINT UNIQUE\n",
    "sample = raw_data['Unnamed: 22'].unique()\n",
    "\n",
    "for i in range(1000) :\n",
    "    print(sample[i])"
   ]
  },
  {
   "cell_type": "code",
   "execution_count": null,
   "metadata": {},
   "outputs": [],
   "source": [
    "#PRINT MULTIPLE COLUMNS\n",
    "\n",
    "data = raw_data[['Case Number','Case Number.1']]\n",
    "print(data)\n",
    "for i in range(1000):\n",
    "    print(data.iloc[i])\n"
   ]
  },
  {
   "cell_type": "code",
   "execution_count": null,
   "metadata": {},
   "outputs": [],
   "source": [
    "# PRINT ALL MISFORMATED DATES (YEAR END \\d{4})\n",
    "for index, value in raw_data['Date'].items():\n",
    "    #print(index,value)\n",
    "    is_match = re.match('.*\\d{4}$',str(value))\n",
    "\n",
    "    if not is_match:\n",
    "        print(index, value) "
   ]
  }
 ],
 "metadata": {
  "kernelspec": {
   "display_name": "Python 3 (ipykernel)",
   "language": "python",
   "name": "python3"
  },
  "language_info": {
   "codemirror_mode": {
    "name": "ipython",
    "version": 3
   },
   "file_extension": ".py",
   "mimetype": "text/x-python",
   "name": "python",
   "nbconvert_exporter": "python",
   "pygments_lexer": "ipython3",
   "version": "3.12.4"
  }
 },
 "nbformat": 4,
 "nbformat_minor": 4
}
