{
 "cells": [
  {
   "cell_type": "markdown",
   "metadata": {},
   "source": [
    "# SHARK QUEST\n",
    "## New Kids On The Block\n",
    "\n"
   ]
  },
  {
   "cell_type": "markdown",
   "metadata": {},
   "source": [
    "# TODO\n",
    "\n",
    "- Pickle ?\n",
    "- Column names?\n",
    "\n",
    "## Selecting\n",
    "- Select relevant columns\n",
    "- Analyse relevant columns\n",
    "\n",
    "## Cleaning :\n",
    "- Cast to appropriate data types\n",
    "    - General cleaning\n",
    "        - identify duplicates\n",
    "            - fuzzy\n",
    "        - removing duplicates\n",
    "            - remove\n",
    "            - merge\n",
    "        - handling null values\n",
    "            - remove\n",
    "            - replace\n",
    "        - manipulating strings\n",
    "        - formatting the data.\n",
    "\n",
    "- Wrong inputs\n",
    "- Outliers"
   ]
  },
  {
   "cell_type": "markdown",
   "metadata": {},
   "source": [
    "## Hypothesis\n",
    "\n",
    "### TIME\n",
    "- Shark attacks are seasonal (Summer)\n",
    "- Shark attacks are increasing \n",
    "- Shark attacks are more concentrated in the PM \n",
    "\n",
    "### LOCATION\n",
    "- Some countries are more attack prone (Australia)\n",
    "- Some countries are more likely to be fatal (Australia)\n",
    "\n",
    "\n",
    "### DEMOGRAPHICS\n",
    "- Males are more likely to get attacked\n",
    "- Males are more likely to get provoke a shark\n",
    "- Provoked attacked are more fatal\n",
    "- Young persons are more likely to get attacked\n",
    "- Old persons are more likely to get killed\n",
    "\n",
    "- Names more likely to get attacked (John)\n",
    "\n",
    "### OTHER\n",
    "- Some species are more aggressive (Tiger Shark)\n",
    "- Some activities are more likely (Surfing)\n",
    "- Some activities are more fatal\n",
    "\n",
    "- Full moon? 😂\n"
   ]
  },
  {
   "cell_type": "markdown",
   "metadata": {},
   "source": [
    "## Business Ideas\n",
    "\n",
    "- App that gives a likelyhood of attack based on location and time\n",
    "- Vacations far away from sharks for phobics\n",
    "- Witness attacks for masochists\n",
    "\n",
    "- Surf school at the safest places / seasons\n",
    "- Fishing supplies => shark repellant by activities\n",
    "- Safety training to avoid provocations / live in harmony\n",
    "\n",
    "- Shark repellant => best spots\n",
    "- Insurance for surfers, premiums for high risk areas"
   ]
  },
  {
   "cell_type": "code",

   "metadata": {},
   "outputs": [],
   "source": [
    "import pandas as pd\n",
    "import re\n",
    "\n",
    "# Load the data\n",
    "shark_attacks = pd.read_excel('GSAF5.xls')\n",
    "display(shark_attacks)\n",
    "\n",
    "#new_data.to_csv(\"shark_data.csv\")"
   ]
  },
  {
   "cell_type": "code",

   "metadata": {},
   "outputs": [],
   "source": [
    "# Settings\n",
    "pd.set_option('display.max_rows', 8000)\n",
    "pd.set_option('display.max_columns', 30)\n",
    "pd.set_option('display.max_colwidth', 100)\n"
   ]
  },
  {
   "cell_type": "code",
   "execution_count": 31,
   "metadata": {},
   "outputs": [],
   "source": [
    "data_schema = {\n",
    "    'Type': {'dtype': 'category', 'categories': ['PROVOKED', 'UNPROVOKED', 'INVALID']},\n",
    "    'Date': {'dtype': 'datetime64[ns]'},\n",
    "    'Country': {'dtype': 'object'},\n",
    "    'State': {'dtype': 'object'},\n",
    "    'Location': {'dtype': 'object'},\n",
    "    'Activity': {'dtype': 'category'},\n",
    "    'Injury': {'dtype': 'category', 'categories': ['FATALITY', 'INJURY', 'OTHER']},\n",
    "    'Time': {'dtype': 'category', 'categories': ['MORNING', 'NOON', 'AFTERNOON', 'DANW', 'NIGHT', 'DUSK']}\n",
    "}"
   ]
  },
  {
   "cell_type": "code",
   "execution_count": null,
   "metadata": {},
   "outputs": [],
   "source": [
    "# RENAME COLUMNS\n",
    "\"\"\" def rename_columns(column_name:str, no_space=True, lowercase=True):\n",
    "    new_name = column_name\n",
    "    print(new_name)\n",
    "    if no_space:\n",
    "        new_name = column_name.replace(r'\\s', '-')\n",
    "\n",
    "    if lowercase:\n",
    "        new_name = new_name.lower()\n",
    "    \n",
    "    return new_name\n",
    "\n",
    "\n",
    "shark_attacks.rename(rename_columns, axis=1)\n",
    "shark_attacks \"\"\""
   ]
  },
  {
   "cell_type": "markdown",
   "metadata": {},
   "source": [
    "# FUNCTIONS"
   ]
  },
  {
   "cell_type": "code",

   "metadata": {},
   "outputs": [],
   "source": [
    "#Hennings functions\n",
    "    #Merge categories : (*categories to be merged, target) - Henning\n"
   ]
  },
  {
   "cell_type": "code",
   "execution_count": 34,
   "metadata": {},
   "outputs": [],
   "source": [
    "#Linh functions\n",
    "    #Strip function : strips spaces - Linh\n",
    "def strip_func(df):\n",
    "    for col in df.columns:\n",
    "        df[col] = df[col].apply(lambda x: x.strip() if isinstance(x, str) else x)\n",
    "    return df\n",
    "\n",
    "df_cleaned = strip_func(shark_attacks)\n",
    "df_cleaned.head(1000)\n"
   ]
  },
  {
   "cell_type": "code",
   "execution_count": null,
   "metadata": {},
   "outputs": [],
   "source": [
    "df_cleaned['Location'] = df_cleaned['Location'].astype(str)\n",
    "\n",
    "def clean_data(location):\n",
    "    location = re.sub(r'\\d{1,2}º[NS],\\s*\\d{1,3}º[EW]', '', location)\n",
    "    location = re.sub(r'\\(.*?\\)', '', location)\n",
    "    location = re.sub(r'\\s+', ' ', location)\n",
    "    return location.title()\n",
    "\n",
    "df_cleaned['Location'] = df_cleaned['Location'].apply(clean_data)\n",
    "df_cleaned['Location'].head(1000)\n"
   ]
  },
  {
   "cell_type": "code",
   "execution_count": null,
   "metadata": {},
   "outputs": [],
   "source": [
    "categories = [(r\"swimming|wading\",\"swimming\")]\n",
    "\n",
    "def categorize_activity(activity):\n",
    "\n",
    "    if pd.isna(activity):\n",
    "        return \"Invalid\"\n",
    "    \n",
    "\n",
    "    activity = activity.lower()\n",
    "    \n",
    "    if 'swim' in activity or 'wading' in activity:\n",
    "        return \"Swimming\"\n",
    "    elif 'surf' in activity or 'boogie boarding' in activity or 'paddle' in activity or 'foil' in activity:\n",
    "        return \"Surfing\"\n",
    "    elif 'fish' in activity or 'fishing' in activity or 'spearfish' in activity or 'kayak' in activity:\n",
    "        return \"Fishing\"\n",
    "    elif 'diving' in activity or 'scuba' in activity or 'freediving' in activity or 'snorkel' in activity:\n",
    "        return \"Diving\"\n",
    "    elif 'sit' in activity or 'stand' in activity:\n",
    "        return \"Passive\"\n",
    "    else:\n",
    "        return \"Other Activity\" \n",
    "\n",
    "\n",
    "df_cleaned['Activity'] = df_cleaned['Activity'].apply(categorize_activity)\n",
    "df_cleaned.head(100)\n"
   ]
  },
  {
   "cell_type": "code",
   "execution_count": 35,
   "metadata": {},
   "outputs": [],
   "source": [
    "#Ricardo functions\n",
    "    #Replace as Nan, Nat, ... function - Ricardo\n",
    "    #Remove obvious duplicate (entire line) - Ricardo\n",
    "    #Remove fuzzy duplicates (case number? dates?) - Ricardo\n"
   ]
  },
  {
   "cell_type": "code",
   "execution_count": 36,
   "metadata": {},
   "outputs": [],
   "source": [
    "# Jp functions\n",
    "\n",
    "# replacements\n",
    "replacements_test_species = [\n",
    "    (r'^.*([Tt]iger).*$', 'TIGER SHARK'),\n",
    "]\n",
    "\n",
    "replacements_test_dates = [\n",
    "    (r'^(.*)(\\d{2})(.*)(\\w{3})(.*)(\\d{4})(.*)', r'\\2-\\4-\\6'),\n",
    "    (r'^(.*)(\\w{3})(.*)(\\d{4})(.*)', r'01-\\2-\\4'),\n",
    "    (r'-(uly|une)', r'-J\\1'),\n",
    "]\n",
    "\n",
    "replacements_test_time = [\n",
    "    (r'^.*((0[0-2]|23)h|([nN]ight|[dD]ark)).*$', 'NIGHT'),\n",
    "    (r'^.*((0[3-6])h|([dD]awn|[sS]unrise|[dD]aybreak)).*$', 'DAWN'),\n",
    "    (r'^.*((0[7-9]|10)h.*$|([mM]orning|^[aA]\\.?[mM])).*$', 'MORNING'),\n",
    "    (r'^.*((1[1-4])h.*$|([nN]oon|[mM]idday|[lL]unch)).*$', 'NOON'),\n",
    "    (r'^.*((1[5-8])h.*$|([aA]fternoon|^[pP]\\.?[mM])).*$', 'AFTERNOON'),\n",
    "    (r'^.*((19|2[0-2])h.*$|([dD]usk|[sS]unset|[eE]vening)).*$', 'DUSK'),\n",
    "]"
   ]
  },
  {
   "cell_type": "code",
   "execution_count": null,
   "metadata": {},
   "outputs": [],
   "source": [
    "\n",
    "def replace_string_patterns(value, replacements):\n",
    "\n",
    "    if isinstance(value, str):\n",
    "\n",
    "        for pattern, target in replacements:\n",
    "            value = re.sub(pattern, target, value)\n",
    "        return value\n",
    "    \n",
    "    else:\n",
    "        \n",
    "        return value\n",
    "\n",
    "species_replace = shark_attacks['Species '].apply(replace_string_patterns, replacements = replacements_test_species)\n",
    "display(species_replace)"
   ]
  },
  {
   "cell_type": "code",
   "execution_count": null,
   "metadata": {},
   "outputs": [],
   "source": [
    "#DATE TEST\n",
    "date_replace_test = shark_attacks['Date'].apply(replace_string_patterns, replacements = replacements_test_dates,)\n",
    "date_test = pd.to_datetime(date_replace_test, format='mixed', errors='coerce')\n",
    "\n",
    "formatted_dates = date_test.dt.strftime('%d-%m-%Y')\n",
    "formatted_dates = formatted_dates.astype('datetime64[ns]')\n",
    "formatted_dates"
   ]
  },
  {
   "cell_type": "code",
   "execution_count": null,
   "metadata": {},
   "outputs": [],
   "source": [
    "#TIME TEST\n",
    "display(shark_attacks['Time'].value_counts())\n",
    "time_replace_test = shark_attacks['Time'].apply(replace_string_patterns, replacements = replacements_test_time,)\n",
    "display(time_replace_test.value_counts())\n",
    "time_replace_test"
   ]
  },
  {
   "cell_type": "code",
   "execution_count": null,
   "metadata": {},
   "outputs": [],
   "source": [

 
    "valid_categories = [value for key, value in replacements_test_time]\n",

    "#PRINT ALL COLUMNS WITH FIRST VALUE\n",
    "shark_attacks.iloc[0]"
   ]
  },
  {
   "cell_type": "code",
   "execution_count": null,
   "metadata": {},
   "outputs": [],
   "source": [
    "# Source, PDF, Case Number as possible duplicate finder or year / date fill\n",
    "relevant_columns = ['Date','Year','Type','Country','State','Location','Activity','Name','Sex','Age','Injury','Time','Species','Source', 'pdf','href formula','href' ]\n",
    "business_relevant_columns = ['Date','Type','Country','State','Location','Activity','Injury','Time']\n",
    "\n",
    "#Henning : Date, Type\n",
    "#Ricardo : Country, State\n",
    "#Linh : Location, Activity\n",
    "#Jp : Injury, Time\n",
    " \n",
    "#Type : category : Merge some columns based on categories. Trim labels. Nan into invalid. Final => Provoked, Unprovoked, Invalid\n",
    "#Date : datetime : Clean \"Reported\" - Harmonize Format - Cast weird into NaT. Final => Dates (as datetime), NaT\n",
    "#Country : string : Strip spaces - Formatting - Replace weird characters - cast weird values as NaN => Strings, Nan\n",
    "#State : string : Strip spaces - Formatting - Replace weird characters - cast weird values as NaN => Strings, Nan\n",
    "#Location : string : Strip spaces - Formatting - Replace weird characters - cast weird values as NaN => Strings, Nan\n",
    "#Activity : category : Merge some columns based on categories. Trim labels. Nan into invalid. Final => Few categories to be determined\n",
    "#Injury : category : Merge columns based on keywords. Nan into other. Final => Fatality, Injury, Other\n",
    "#Time : category : Cast into categories Final => morning (6-10) noon (10-14) afternoon( 14-18) dusk (18-22) night (22 - 2) dawn (2-6) maybe as integers (0-5)\n",

    "\n",
    "display(time_replace_test.value_counts())\n",
    "where_test = time_replace_test.where(time_replace_test.isin(valid_categories))\n",
    "where_test = where_test.astype('category')\n",
    "where_test\n"
   ]
  },
  {
   "cell_type": "code",
   "execution_count": null,
   "metadata": {},
   "outputs": [],
   "source": [
    "#RENAME COLUMNS"
   ]
  },
  {
   "cell_type": "code",
   "execution_count": null,
   "metadata": {},
   "outputs": [],
   "source": [
    "# RETYPE COLUMNS\n",
    "columns_types = {key: value['dtype'] for key, value in data_schema.items()}\n",
    "print(columns_types)\n",
    "shark_attacks.astype(columns_types)"
   ]
  },
  {
   "cell_type": "code",
   "execution_count": null,
   "metadata": {},
   "outputs": [],
   "source": [
    "shark_attacks.shape"
   ]
  },
  {
   "cell_type": "code",
   "execution_count": null,
   "metadata": {},
   "outputs": [],
   "source": [
    "shark_attacks.head()      "
   ]
  },
  {
   "cell_type": "code",
   "execution_count": null,
   "metadata": {},
   "outputs": [],
   "source": [
    "#PRINT ALL COLUMNS WITH FIRST VALUE\n",
    "shark_attacks.iloc[0]"
   ]
  },
  {
   "cell_type": "code",
   "execution_count": 69,
   "metadata": {},
   "outputs": [],
   "source": [
    "# Source, PDF, Case Number as possible duplicate finder or year / date fill\n",
    "relevant_columns = ['Date','Year','Type','Country','State','Location','Activity','Name','Sex','Age','Injury','Time','Species','Source', 'pdf','href formula','href' ]\n",
    "business_relevant_columns = ['Date','Type','Country','State','Location','Activity','Injury','Time']\n",
    "\n",
    "#Henning : Date, Type\n",
    "#Ricardo : Country, State\n",
    "#Linh : Location, Activity\n",
    "#Jp : Injury, Time\n",
    " \n",
    "#Type : category : Merge some columns based on categories. Trim labels. Nan into invalid. Final => Provoked, Unprovoked, Invalid\n",
    "#Date : datetime : Clean \"Reported\" - Harmonize Format - Cast weird into NaT. Final => Dates (as datetime), NaT\n",
    "#Country : string : Strip spaces - Formatting - Replace weird characters - cast weird values as NaN => Strings, Nan\n",
    "#State : string : Strip spaces - Formatting - Replace weird characters - cast weird values as NaN => Strings, Nan\n",
    "#Location : string : Strip spaces - Formatting - Replace weird characters - cast weird values as NaN => Strings, Nan\n",
    "#Activity : category : Merge some columns based on categories. Trim labels. Nan into invalid. Final => Few categories to be determined\n",
    "#Injury : category : Merge columns based on keywords. Nan into other. Final => Fatality, Injury, Other\n",
    "#Time : category : Cast into categories Final => morning (6-10) noon (10-14) afternoon( 14-18) dusk (18-22) night (22 - 2) dawn (2-6) maybe as integers (0-5)\n",
    "\n",
    "#Todo\n",
    "    #Remove obvious duplicate (entire line) - Ricardo\n",
    "    #Remove fuzzy duplicates (case number? dates?) - Ricardo\n",
    "\n",
    "#Functions : \n",
    "    #Merge categories : (*categories to be merged, target) - Henning\n",
    "    #Strip function : strips spaces - Linh\n",
    "    #Replace as Nan, Nat, ... function - Ricardo\n",
    "    # DONE - Replace by keyword function - Jp\n",
    "    # DONE - Cast to dateTime function \n",
    "        #Matching function (find similarities, keyword based?)\n",
    "        # DONE - Reformat dates, strings\n",
    "        #Filter function"
   ]
  },
  {
   "cell_type": "code",
   "execution_count": null,
   "metadata": {},
   "outputs": [],
   "source": [
    "matching_rows = shark_attacks[shark_attacks['Injury'].str.contains('FATAL', case=False, na=False)]\n",
    "\n",
    "print(matching_rows)"
   ]
  },
  {
   "cell_type": "code",
   "execution_count": null,
   "metadata": {},
   "outputs": [],
   "source": [
    "#PRINT MULTIPLE COLUMNS\n",
    "\n",
    "display(shark_attacks[['Case Number','Case Number.1']].dropna())"
   ]
  },
  {
   "cell_type": "code",
   "execution_count": null,
   "metadata": {},
   "outputs": [],
   "source": [
    "pattern = r\"Unnamed\"\n",
    "unnamed_columns = shark_attacks[shark_attacks.filter(regex=pattern).columns].dropna(thresh=1)\n",
    "display(unnamed_columns.head(100))\n"
   ]
  },
  {
   "cell_type": "code",
   "execution_count": null,
   "metadata": {},
   "outputs": [],
   "source": [
    "# PRINT ALL MISFORMATED DATES (YEAR END \\d{4})\n",
    "shark_attacks[~shark_attacks['Date'].str.contains(r'.*\\d{4}$', regex=True, na=False)]"
   ]
  },
  {
   "cell_type": "code",
   "execution_count": null,
   "metadata": {},
   "outputs": [],
   "source": [
    "shark_attacks['Name'].value_counts()\n",
    "\n",
    "def get_fname(row):\n",
    "    return str(row).split()[0]\n",
    "\n",
    "shark_attacks['first_name'] = shark_attacks['Name'].apply(get_fname)\n",
    "\n",
    "shark_attacks['first_name'].value_counts().head(50)\n"
   ]
  },
  {
   "cell_type": "markdown",
   "metadata": {},
   "source": [
    "### INJURY\n",
    "\n",
    "## Problems\n",
    "- Some are non-human damages (boat, kayak, boards)\n",
    "- Some are non injuries (touched shark)\n",
    "- Some don't have details\n",
    "- Fatalities flags are non consistent\n",
    "- Some incident are post-mortem\n",
    "- Some are not incidents ('Aboriginal rock carving depicts man being attacked by a shark')\n",
    "- Nan\n",
    "\n",
    "## Additional\n",
    "- Some provoked details that could be useful if missing elsewhere\n",
    "\n",
    "## Solutions\n",
    "- 3 categories : \n",
    "    - Fatality\n",
    "    - Injury\n",
    "    - Other\n",
    "\n",
    "- Keyword(s) based search / replace ?\n",
    "\n",
    "### TIME\n",
    "\n",
    "## Problems\n",
    "- Lots of Nan\n",
    "- Some are times (12h00,...), other are time of day (morning,...)\n",
    "- Some are text\n",
    "- Some are ranges\n",
    "- Some are calculations\n",
    "- Some are 12h based, other 24h based\n",
    "- Some maybe duplicates \n",
    "- Some are misplaced data\n",
    "\n",
    "## Solutions\n",
    "- 2 types :\n",
    "    - Time (int? str?)\n",
    "    - Unknown / NaN / None\n"
   ]
  }
 ],
 "metadata": {
  "kernelspec": {
   "display_name": "Python 3 (ipykernel)",
   "language": "python",
   "name": "python3"
  },
  "language_info": {
   "codemirror_mode": {
    "name": "ipython",
    "version": 3
   },
   "file_extension": ".py",
   "mimetype": "text/x-python",
   "name": "python",
   "nbconvert_exporter": "python",
   "pygments_lexer": "ipython3",
   "version": "3.12.4"
  }
 },
 "nbformat": 4,
 "nbformat_minor": 4
}
