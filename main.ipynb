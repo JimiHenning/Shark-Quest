{
 "cells": [
  {
   "cell_type": "markdown",
   "metadata": {},
   "source": [
    "# SHARK QUEST\n",
    "## New Kids On The Block\n",
    "\n"
   ]
  },
  {
   "cell_type": "markdown",
   "metadata": {},
   "source": [
    "# TODO\n",
    "\n",
    "- Pickle ?\n",
    "\n",
    "## Selecting\n",
    "- Select relevant columns\n",
    "- Analyse relevant columns\n",
    "\n",
    "## Cleaning :\n",
    "- Cast to appropriate data types\n",
    "    - General cleaning\n",
    "        - identify duplicates\n",
    "            - fuzzy\n",
    "        - removing duplicates\n",
    "            - remove\n",
    "            - merge\n",
    "        - handling null values\n",
    "            - remove\n",
    "            - replace\n",
    "        - manipulating strings\n",
    "        - formatting the data.\n",
    "\n",
    "- Wrong inputs\n",
    "- Outliers"
   ]
  },
  {
   "cell_type": "markdown",
   "metadata": {},
   "source": [
    "## Hypothesis\n",
    "\n",
    "### TIME\n",
    "- Shark attacks are seasonal (Summer)\n",
    "- Shark attacks are increasing \n",
    "- Shark attacks are more concentrated in the PM \n",
    "\n",
    "### LOCATION\n",
    "- Some countries are more attack prone (Australia)\n",
    "\n",
    "### DEMOGRAPHICS\n",
    "- Males are more likely to get attacked\n",
    "- Males are more likely to get provoke a shark\n",
    "- Provoked attacked are more fatal\n",
    "- Young persons are more likely to get attacked\n",
    "- Names more likely to get attacked (John)\n",
    "\n",
    "### OTHER\n",
    "- Some species are more aggressive (Tiger Shark)\n",
    "- Some activities are more likely (Surfing)\n",
    "- Some activities are more fatal\n",
    "- Full moon? 😂\n"
   ]
  },
  {
   "cell_type": "markdown",
   "metadata": {},
   "source": [
    "## Business Ideas\n",
    "\n",
    "- App that gives a likelyhood of attack based on location and time\n",
    "- Vacations far away from sharks for phobics\n",
    "- Witness attacks for masochists"
   ]
  },
  {
   "cell_type": "code",
   "execution_count": 1,
   "metadata": {},
   "outputs": [],
   "source": [
    "import pandas as pd\n",
    "import re\n",
    "\n",
    "# Load the data\n",
    "shark_attacks = pd.read_excel('GSAF5.xls')\n",
    "\n",
    "#new_data.to_csv(\"shark_data.csv\")"
   ]
  },
  {
   "cell_type": "code",
   "execution_count": 2,
   "metadata": {},
   "outputs": [],
   "source": [
    "# Settings\n",
    "pd.set_option('display.max_rows', 100)\n",
    "pd.set_option('display.max_columns', 30)\n"
   ]
  },
  {
   "cell_type": "code",
   "execution_count": null,
   "metadata": {},
   "outputs": [],
   "source": [
    "shark_attacks.shape"
   ]
  },
  {
   "cell_type": "code",
   "execution_count": null,
   "metadata": {},
   "outputs": [],
   "source": [
    "shark_attacks.head(30)"
   ]
  },
  {
   "cell_type": "code",
   "execution_count": null,
   "metadata": {},
   "outputs": [],
   "source": [
    "#PRINT ALL COLUMNS WITH FIRST VALUE\n",
    "shark_attacks.iloc[0]"
   ]
  },
  {
   "cell_type": "code",
   "execution_count": 6,
   "metadata": {},
   "outputs": [],
   "source": [
    "# Source, PDF, Case Number as possible duplicate finder or year / date fill\n",
    "relevant_columns = ['Date','Year','Type','Country','State','Location','Activity','Name','Sex','Age','Injury','Time','Species','Source', 'pdf','href formula','href' ]"
   ]
  },
  {
   "cell_type": "code",
   "execution_count": null,
   "metadata": {},
   "outputs": [],
   "source": [
    "shark_attacks.isna().any()"
   ]
  },
  {
   "cell_type": "code",
   "execution_count": null,
   "metadata": {},
   "outputs": [],
   "source": [
    "shark_attacks_nona = shark_attacks.dropna(subset=['Unnamed: 21'])\n",
    "display(shark_attacks_nona)"
   ]
  },
  {
   "cell_type": "code",
   "execution_count": null,
   "metadata": {},
   "outputs": [],
   "source": [
    "#PRINT UNIQUE\n",
    "shark_attacks['Unnamed: 22'].unique()\n"
   ]
  },
  {
   "cell_type": "code",
   "execution_count": null,
   "metadata": {},
   "outputs": [],
   "source": [
    "#PRINT MULTIPLE COLUMNS\n",
    "\n",
    "display(shark_attacks[['Case Number','Case Number.1']].dropna())"
   ]
  },
  {
   "cell_type": "code",
   "execution_count": null,
   "metadata": {},
   "outputs": [],
   "source": [
    "pattern = r\"Unnamed\"\n",
    "unnamed_columns = shark_attacks[shark_attacks.filter(regex=pattern).columns].dropna(thresh=1)\n",
    "display(unnamed_columns.head(100))\n"
   ]
  },
  {
   "cell_type": "code",
   "execution_count": null,
   "metadata": {},
   "outputs": [],
   "source": [
    "# PRINT ALL MISFORMATED DATES (YEAR END \\d{4})\n",
    "shark_attacks[~shark_attacks['Date'].str.contains(r'.*\\d{4}$', regex=True, na=False)]"
   ]
  },
  {
   "cell_type": "code",
   "execution_count": 30,
   "metadata": {},
   "outputs": [
    {
     "data": {
      "text/plain": [
       "first_name\n",
       "male       697\n",
       "nan        245\n",
       "John       141\n",
       "female     138\n",
       "a          123\n",
       "William     80\n",
       "Robert      76\n",
       "David       64\n",
       "James       63\n",
       "Mr.         63\n",
       "Michael     58\n",
       "Richard     47\n",
       "2           45\n",
       "Charles     44\n",
       "Peter       41\n",
       "Mark        41\n",
       "Paul        37\n",
       "George      36\n",
       "Jack        34\n",
       "Brian       33\n",
       "Thomas      33\n",
       "Andrew      33\n",
       "boat,       30\n",
       "Frank       28\n",
       "Mike        28\n",
       "Kevin       28\n",
       "Eric        28\n",
       "male,       27\n",
       "boat        27\n",
       "Chris       26\n",
       "Jason       26\n",
       "Captain     25\n",
       "Daniel      25\n",
       "boy         24\n",
       "Matthew     23\n",
       "A           22\n",
       "Gary        22\n",
       "Scott       21\n",
       "Bruce       20\n",
       "Joseph      20\n",
       "Adam        19\n",
       "Tony        17\n",
       "Arthur      17\n",
       "Mrs.        17\n",
       "Steve       17\n",
       "Joe         17\n",
       "Donald      17\n",
       "Dr.         17\n",
       "Barry       16\n",
       "Stephen     16\n",
       "Name: count, dtype: int64"
      ]
     },
     "execution_count": 30,
     "metadata": {},
     "output_type": "execute_result"
    }
   ],
   "source": [
    "shark_attacks['Name'].value_counts()\n",
    "\n",
    "def get_fname(row):\n",
    "    return str(row).split()[0]\n",
    "\n",
    "shark_attacks['first_name'] = shark_attacks['Name'].apply(get_fname)\n",
    "shark_attacks['first_name'].value_counts().head(50)\n"
   ]
  },
  {
   "cell_type": "code",
   "execution_count": null,
   "metadata": {},
   "outputs": [],
   "source": []
  }
 ],
 "metadata": {
  "kernelspec": {
   "display_name": "Python 3 (ipykernel)",
   "language": "python",
   "name": "python3"
  },
  "language_info": {
   "codemirror_mode": {
    "name": "ipython",
    "version": 3
   },
   "file_extension": ".py",
   "mimetype": "text/x-python",
   "name": "python",
   "nbconvert_exporter": "python",
   "pygments_lexer": "ipython3",
   "version": "3.12.4"
  }
 },
 "nbformat": 4,
 "nbformat_minor": 4
}
