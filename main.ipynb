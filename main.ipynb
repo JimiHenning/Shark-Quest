{
 "cells": [
  {
   "cell_type": "markdown",
   "metadata": {},
   "source": [
    "# SHARK QUEST\n",
    "## New Kids On The Block\n",
    "\n"
   ]
  },
  {
   "cell_type": "markdown",
   "metadata": {},
   "source": [
    "TODO : \n",
    "- change df name\n"
   ]
  },
  {
   "cell_type": "code",
   "execution_count": 2125,
   "metadata": {},
   "outputs": [
    {
     "name": "stdout",
     "output_type": "stream",
     "text": [
      "The autoreload extension is already loaded. To reload it, use:\n",
      "  %reload_ext autoreload\n"
     ]
    }
   ],
   "source": [
    "%load_ext autoreload\n",
    "%autoreload 2 "
   ]
  },
  {
   "cell_type": "code",
   "execution_count": 2126,
   "metadata": {},
   "outputs": [],
   "source": [
    "# Import depedencies\n",
    "import pandas as pd\n",
    "import numpy as np\n",
    "import matplotlib.pyplot as plt\n",
    "from cleaning import *"
   ]
  },
  {
   "cell_type": "code",
   "execution_count": 2127,
   "metadata": {},
   "outputs": [],
   "source": [
    "# Settings\n",
    "pd.set_option('display.max_rows', 80)\n",
    "pd.set_option('display.max_columns', 30)\n",
    "pd.set_option('display.max_colwidth', 100)"
   ]
  },
  {
   "cell_type": "code",
   "execution_count": 2128,
   "metadata": {},
   "outputs": [],
   "source": [
    "# Load the data\n",
    "sources = get_json('sources');\n",
    "\n",
    "raw_data = load_data(sources['principal'])\n",
    "shark_attacks = raw_data.copy()"
   ]
  },
  {
   "cell_type": "code",
   "execution_count": 2129,
   "metadata": {},
   "outputs": [],
   "source": [
    "# Data Contract\n",
    "data_schema = get_json('schema')"
   ]
  },
  {
   "cell_type": "code",
   "execution_count": 2130,
   "metadata": {},
   "outputs": [],
   "source": [
    "# Rename all columns according to the data schema\n",
    "shark_attacks = rename_columns(shark_attacks, data_schema)"
   ]
  },
  {
   "cell_type": "code",
   "execution_count": 2131,
   "metadata": {},
   "outputs": [],
   "source": [
    "# Add new columns from the data schema\n",
    "add_columns(shark_attacks, data_schema)"
   ]
  },
  {
   "cell_type": "code",
   "execution_count": 2132,
   "metadata": {},
   "outputs": [],
   "source": [
    "# Drop columns that are not in the schema\n",
    "shark_attacks = drop_columns(shark_attacks, data_schema)"
   ]
  },
  {
   "cell_type": "code",
   "execution_count": 2133,
   "metadata": {},
   "outputs": [],
   "source": [
    "# Strip strings\n",
    "shark_attacks = shark_attacks.apply(lambda x: x.str.strip() if x.dtype == ['object', 'string'] else x)"
   ]
  },
  {
   "cell_type": "code",
   "execution_count": 2134,
   "metadata": {},
   "outputs": [],
   "source": [
    "# Handling missing values\n",
    "shark_attacks = shark_attacks.replace(['N/A', 'null', '--'], np.nan)"
   ]
  },
  {
   "cell_type": "code",
   "execution_count": 2135,
   "metadata": {},
   "outputs": [],
   "source": [
    "# Remove duplicates\n",
    "shark_attacks.drop_duplicates(keep=False, inplace=True)\n",
    "\n",
    "shark_attacks = remove_duplicates(shark_attacks, data_schema)"
   ]
  },
  {
   "cell_type": "code",
   "execution_count": 2136,
   "metadata": {},
   "outputs": [],
   "source": [
    "# Reset Index\n",
    "shark_attacks.reset_index(inplace=True)"
   ]
  },
  {
   "cell_type": "code",
   "execution_count": 2137,
   "metadata": {},
   "outputs": [],
   "source": [
    "# Reformat values\n",
    "replacements = get_json('replacements')\n",
    "\n",
    "shark_attacks = reformat_values(shark_attacks, replacements)"
   ]
  },
  {
   "cell_type": "code",
   "execution_count": 2138,
   "metadata": {},
   "outputs": [
    {
     "data": {
      "text/plain": [
       "\" def validate_from_list(df, schema):\\n        \\n        for column, parameters in schema.items():\\n            if parameters.get('valid_values'):\\n                df.loc[~df[column].isin(parameters['valid_values']), column] = np.nan\\n                \\n        return df \""
      ]
     },
     "execution_count": 2138,
     "metadata": {},
     "output_type": "execute_result"
    }
   ],
   "source": [
    "# Validate from list, check if the values in the columns are in the list of valid values, if not, cast them to NaN\n",
    "\"\"\" def validate_from_list(df, schema):\n",
    "        \n",
    "        for column, parameters in schema.items():\n",
    "            if parameters.get('valid_values'):\n",
    "                df.loc[~df[column].isin(parameters['valid_values']), column] = np.nan\n",
    "                \n",
    "        return df \"\"\""
   ]
  },
  {
   "cell_type": "code",
   "execution_count": 2139,
   "metadata": {},
   "outputs": [
    {
     "data": {
      "text/plain": [
       "' shark_attacks[\"country\"] = shark_attacks[\"country\"].where(shark_attacks[\"country\"].isin(country_list), np.nan) '"
      ]
     },
     "execution_count": 2139,
     "metadata": {},
     "output_type": "execute_result"
    }
   ],
   "source": [
    "# Reformat country\n",
    "#shark_attacks['country'] = shark_attacks['country'].apply(lambda x: x.lower() if isinstance(x, str) else x)\n",
    "\"\"\" replace_to_nan(shark_attacks[\"country\"], [\"england\",\"scotland\"], \"united kingdom\")\n",
    "replace_to_nan(shark_attacks[\"country\"], [\"usa\", \"hawaii\"], \"united states\")\n",
    "replace_to_nan(shark_attacks[\"country\"], [\"reunion\"], \"france\")\n",
    "replace_to_nan(shark_attacks[\"country\"], [\"columbia\"], \"colombia\")\n",
    "replace_to_nan(shark_attacks[\"country\"], [\"new guinea\"], \"papua new guinea\") \"\"\"\n",
    "\n",
    "\n",
    "# unify country, converts all low value \"country\" ocorrences into <NA>. Also sets Country as string-type\n",
    "\"\"\" shark_attacks[\"country\"] = shark_attacks[\"country\"].where(shark_attacks[\"country\"].isin(country_list), np.nan) \"\"\""
   ]
  },
  {
   "cell_type": "code",
   "execution_count": 2140,
   "metadata": {},
   "outputs": [],
   "source": [
    "# Clean dates\n",
    "shark_attacks = clean_dates(shark_attacks, data_schema)"
   ]
  },
  {
   "cell_type": "code",
   "execution_count": 2141,
   "metadata": {},
   "outputs": [],
   "source": [
    "# Cast correct types\n",
    "columns_types = {key: value['dtype'] for key, value in data_schema.items()}\n",
    "shark_attacks = shark_attacks.astype(columns_types)"
   ]
  },
  {
   "cell_type": "code",
   "execution_count": 2142,
   "metadata": {},
   "outputs": [
    {
     "ename": "NameError",
     "evalue": "name 'sources' is not defined",
     "output_type": "error",
     "traceback": [
      "\u001b[0;31m---------------------------------------------------------------------------\u001b[0m",
      "\u001b[0;31mNameError\u001b[0m                                 Traceback (most recent call last)",
      "Cell \u001b[0;32mIn[2142], line 2\u001b[0m\n\u001b[1;32m      1\u001b[0m \u001b[38;5;66;03m# Apply the function to the shark_attacks dataframe\u001b[39;00m\n\u001b[0;32m----> 2\u001b[0m shark_attacks \u001b[38;5;241m=\u001b[39m clean_categories(shark_attacks, data_schema)\n",
      "File \u001b[0;32m~/Class/Quests/Shark-Quest/cleaning.py:185\u001b[0m, in \u001b[0;36mclean_categories\u001b[0;34m(df, schema)\u001b[0m\n\u001b[1;32m      0\u001b[0m <Error retrieving source code with stack_data see ipython/ipython#13598>\n",
      "\u001b[0;31mNameError\u001b[0m: name 'sources' is not defined"
     ]
    }
   ],
   "source": [
    "# Apply the function to the shark_attacks dataframe\n",
    "shark_attacks = clean_categories(shark_attacks, data_schema, sources)"
   ]
  },
  {
   "cell_type": "code",
   "execution_count": 2111,
   "metadata": {},
   "outputs": [],
   "source": [
    "# Add helper columns\n",
    "shark_attacks['severity_score'] = shark_attacks['severity'].apply(lambda x: 3 if x == 'FATALITY' else 2 if x == 'INJURY' else 1)"
   ]
  },
  {
   "cell_type": "code",
   "execution_count": 2112,
   "metadata": {},
   "outputs": [
    {
     "data": {
      "text/html": [
       "<div>\n",
       "<style scoped>\n",
       "    .dataframe tbody tr th:only-of-type {\n",
       "        vertical-align: middle;\n",
       "    }\n",
       "\n",
       "    .dataframe tbody tr th {\n",
       "        vertical-align: top;\n",
       "    }\n",
       "\n",
       "    .dataframe thead th {\n",
       "        text-align: right;\n",
       "    }\n",
       "</style>\n",
       "<table border=\"1\" class=\"dataframe\">\n",
       "  <thead>\n",
       "    <tr style=\"text-align: right;\">\n",
       "      <th></th>\n",
       "      <th>index</th>\n",
       "      <th>date</th>\n",
       "      <th>type</th>\n",
       "      <th>country</th>\n",
       "      <th>state</th>\n",
       "      <th>location</th>\n",
       "      <th>activity</th>\n",
       "      <th>sex</th>\n",
       "      <th>severity</th>\n",
       "      <th>time</th>\n",
       "      <th>species</th>\n",
       "      <th>severity_score</th>\n",
       "    </tr>\n",
       "  </thead>\n",
       "  <tbody>\n",
       "    <tr>\n",
       "      <th>0</th>\n",
       "      <td>0</td>\n",
       "      <td>2024-01-03</td>\n",
       "      <td>UNPROVOKED</td>\n",
       "      <td>s</td>\n",
       "      <td>Queensland</td>\n",
       "      <td>Bargara Beach</td>\n",
       "      <td>SWIMMING</td>\n",
       "      <td>FEMALE</td>\n",
       "      <td>INJURY</td>\n",
       "      <td>AFTERNOON</td>\n",
       "      <td>TIGER SHARK</td>\n",
       "      <td>2</td>\n",
       "    </tr>\n",
       "    <tr>\n",
       "      <th>1</th>\n",
       "      <td>1</td>\n",
       "      <td>2024-01-03</td>\n",
       "      <td>UNPROVOKED</td>\n",
       "      <td>s</td>\n",
       "      <td>Hawaii</td>\n",
       "      <td>Old Man's, Waikiki</td>\n",
       "      <td>SURFING</td>\n",
       "      <td>MALE</td>\n",
       "      <td>INJURY</td>\n",
       "      <td>UNKNOWN</td>\n",
       "      <td>TIGER SHARK</td>\n",
       "      <td>2</td>\n",
       "    </tr>\n",
       "    <tr>\n",
       "      <th>2</th>\n",
       "      <td>2</td>\n",
       "      <td>2024-01-03</td>\n",
       "      <td>UNPROVOKED</td>\n",
       "      <td>s</td>\n",
       "      <td>Hawaii</td>\n",
       "      <td>Rainbows, Oahu</td>\n",
       "      <td>SWIMMING</td>\n",
       "      <td>FEMALE</td>\n",
       "      <td>INJURY</td>\n",
       "      <td>NOON</td>\n",
       "      <td>MYSTERY SHARK</td>\n",
       "      <td>2</td>\n",
       "    </tr>\n",
       "    <tr>\n",
       "      <th>3</th>\n",
       "      <td>3</td>\n",
       "      <td>2024-01-02</td>\n",
       "      <td>UNPROVOKED</td>\n",
       "      <td>s</td>\n",
       "      <td>Western Australia</td>\n",
       "      <td>Sandlnd Island, Jurian Bay</td>\n",
       "      <td>PASSIVE</td>\n",
       "      <td>FEMALE</td>\n",
       "      <td>INJURY</td>\n",
       "      <td>NOON</td>\n",
       "      <td>TIGER SHARK</td>\n",
       "      <td>2</td>\n",
       "    </tr>\n",
       "    <tr>\n",
       "      <th>4</th>\n",
       "      <td>4</td>\n",
       "      <td>2024-01-02</td>\n",
       "      <td>UNPROVOKED</td>\n",
       "      <td>s</td>\n",
       "      <td>Maharashtra</td>\n",
       "      <td>Vaitarna River, Palghar District</td>\n",
       "      <td>FISHING</td>\n",
       "      <td>MALE</td>\n",
       "      <td>INJURY</td>\n",
       "      <td>UNKNOWN</td>\n",
       "      <td>BULL SHARK</td>\n",
       "      <td>2</td>\n",
       "    </tr>\n",
       "    <tr>\n",
       "      <th>...</th>\n",
       "      <td>...</td>\n",
       "      <td>...</td>\n",
       "      <td>...</td>\n",
       "      <td>...</td>\n",
       "      <td>...</td>\n",
       "      <td>...</td>\n",
       "      <td>...</td>\n",
       "      <td>...</td>\n",
       "      <td>...</td>\n",
       "      <td>...</td>\n",
       "      <td>...</td>\n",
       "      <td>...</td>\n",
       "    </tr>\n",
       "    <tr>\n",
       "      <th>6800</th>\n",
       "      <td>6939</td>\n",
       "      <td>1913-01-07</td>\n",
       "      <td>UNPROVOKED</td>\n",
       "      <td>s</td>\n",
       "      <td>Western Australia</td>\n",
       "      <td>Roebuck Bay</td>\n",
       "      <td>DIVING</td>\n",
       "      <td>MALE</td>\n",
       "      <td>FATALITY</td>\n",
       "      <td>UNKNOWN</td>\n",
       "      <td>MYSTERY SHARK</td>\n",
       "      <td>3</td>\n",
       "    </tr>\n",
       "    <tr>\n",
       "      <th>6801</th>\n",
       "      <td>6940</td>\n",
       "      <td>1913-01-07</td>\n",
       "      <td>UNPROVOKED</td>\n",
       "      <td>s</td>\n",
       "      <td>Western Australia</td>\n",
       "      <td>&lt;NA&gt;</td>\n",
       "      <td>DIVING</td>\n",
       "      <td>MALE</td>\n",
       "      <td>FATALITY</td>\n",
       "      <td>UNKNOWN</td>\n",
       "      <td>MYSTERY SHARK</td>\n",
       "      <td>3</td>\n",
       "    </tr>\n",
       "    <tr>\n",
       "      <th>6802</th>\n",
       "      <td>6941</td>\n",
       "      <td>1913-01-07</td>\n",
       "      <td>UNPROVOKED</td>\n",
       "      <td>s</td>\n",
       "      <td>North Carolina</td>\n",
       "      <td>Ocracoke Inlet</td>\n",
       "      <td>SWIMMING</td>\n",
       "      <td>MALE</td>\n",
       "      <td>FATALITY</td>\n",
       "      <td>UNKNOWN</td>\n",
       "      <td>MYSTERY SHARK</td>\n",
       "      <td>3</td>\n",
       "    </tr>\n",
       "    <tr>\n",
       "      <th>6803</th>\n",
       "      <td>6942</td>\n",
       "      <td>1913-01-07</td>\n",
       "      <td>UNPROVOKED</td>\n",
       "      <td>s</td>\n",
       "      <td>&lt;NA&gt;</td>\n",
       "      <td>Panama Bay 8ºN, 79ºW</td>\n",
       "      <td>PASSIVE</td>\n",
       "      <td>MALE</td>\n",
       "      <td>FATALITY</td>\n",
       "      <td>UNKNOWN</td>\n",
       "      <td>MYSTERY SHARK</td>\n",
       "      <td>3</td>\n",
       "    </tr>\n",
       "    <tr>\n",
       "      <th>6804</th>\n",
       "      <td>6943</td>\n",
       "      <td>1913-01-07</td>\n",
       "      <td>UNPROVOKED</td>\n",
       "      <td>s</td>\n",
       "      <td>Eastern Province</td>\n",
       "      <td>Below the English fort, Trincomalee</td>\n",
       "      <td>SWIMMING</td>\n",
       "      <td>MALE</td>\n",
       "      <td>FATALITY</td>\n",
       "      <td>UNKNOWN</td>\n",
       "      <td>MYSTERY SHARK</td>\n",
       "      <td>3</td>\n",
       "    </tr>\n",
       "  </tbody>\n",
       "</table>\n",
       "<p>6805 rows × 12 columns</p>\n",
       "</div>"
      ],
      "text/plain": [
       "      index       date        type country              state  \\\n",
       "0         0 2024-01-03  UNPROVOKED       s         Queensland   \n",
       "1         1 2024-01-03  UNPROVOKED       s             Hawaii   \n",
       "2         2 2024-01-03  UNPROVOKED       s             Hawaii   \n",
       "3         3 2024-01-02  UNPROVOKED       s  Western Australia   \n",
       "4         4 2024-01-02  UNPROVOKED       s        Maharashtra   \n",
       "...     ...        ...         ...     ...                ...   \n",
       "6800   6939 1913-01-07  UNPROVOKED       s  Western Australia   \n",
       "6801   6940 1913-01-07  UNPROVOKED       s  Western Australia   \n",
       "6802   6941 1913-01-07  UNPROVOKED       s     North Carolina   \n",
       "6803   6942 1913-01-07  UNPROVOKED       s               <NA>   \n",
       "6804   6943 1913-01-07  UNPROVOKED       s   Eastern Province   \n",
       "\n",
       "                                 location  activity     sex  severity  \\\n",
       "0                           Bargara Beach  SWIMMING  FEMALE    INJURY   \n",
       "1                      Old Man's, Waikiki   SURFING    MALE    INJURY   \n",
       "2                          Rainbows, Oahu  SWIMMING  FEMALE    INJURY   \n",
       "3              Sandlnd Island, Jurian Bay   PASSIVE  FEMALE    INJURY   \n",
       "4        Vaitarna River, Palghar District   FISHING    MALE    INJURY   \n",
       "...                                   ...       ...     ...       ...   \n",
       "6800                          Roebuck Bay    DIVING    MALE  FATALITY   \n",
       "6801                                 <NA>    DIVING    MALE  FATALITY   \n",
       "6802                       Ocracoke Inlet  SWIMMING    MALE  FATALITY   \n",
       "6803                 Panama Bay 8ºN, 79ºW   PASSIVE    MALE  FATALITY   \n",
       "6804  Below the English fort, Trincomalee  SWIMMING    MALE  FATALITY   \n",
       "\n",
       "           time        species severity_score  \n",
       "0     AFTERNOON    TIGER SHARK              2  \n",
       "1       UNKNOWN    TIGER SHARK              2  \n",
       "2          NOON  MYSTERY SHARK              2  \n",
       "3          NOON    TIGER SHARK              2  \n",
       "4       UNKNOWN     BULL SHARK              2  \n",
       "...         ...            ...            ...  \n",
       "6800    UNKNOWN  MYSTERY SHARK              3  \n",
       "6801    UNKNOWN  MYSTERY SHARK              3  \n",
       "6802    UNKNOWN  MYSTERY SHARK              3  \n",
       "6803    UNKNOWN  MYSTERY SHARK              3  \n",
       "6804    UNKNOWN  MYSTERY SHARK              3  \n",
       "\n",
       "[6805 rows x 12 columns]"
      ]
     },
     "execution_count": 2112,
     "metadata": {},
     "output_type": "execute_result"
    }
   ],
   "source": [
    "# Clean copy for analysis\n",
    "shark_attacks_clean = shark_attacks.copy()\n",
    "shark_attacks_clean"
   ]
  },
  {
   "cell_type": "markdown",
   "metadata": {},
   "source": [
    "# ANALYSIS"
   ]
  },
  {
   "cell_type": "code",
   "execution_count": 2113,
   "metadata": {},
   "outputs": [
    {
     "name": "stderr",
     "output_type": "stream",
     "text": [
      "/var/folders/7w/s5bmwwgs2176bk3y33c2nv2m0000gn/T/ipykernel_93588/3300347951.py:16: FutureWarning: \n",
      "\n",
      "Passing `palette` without assigning `hue` is deprecated and will be removed in v0.14.0. Assign the `x` variable to `hue` and set `legend=False` for the same effect.\n",
      "\n",
      "  sns.barplot(x='Time Category', y='Number of Attacks', data=df_time, palette='Blues')\n"
     ]
    },
    {
     "data": {
      "image/png": "[encoded data removed]",
      "text/plain": [
       "<Figure size 640x480 with 1 Axes>"
      ]
     },
     "metadata": {},
     "output_type": "display_data"
    }
   ],
   "source": [
    "#Hypothesis: Shark attacks are more concentrated in the PM \n",
    "time_stats = shark_attacks['time'].cat.remove_categories('UNKNOWN')\n",
    "\n",
    "time_counts = time_stats.value_counts()\n",
    "time_counts\n",
    "\n",
    "\n",
    "df_time = pd.DataFrame(\n",
    "    {'Time Category': time_counts.index,\n",
    "     'Number of Attacks': time_counts.values  \n",
    "    }\n",
    ")\n",
    "df_time\n",
    "import seaborn as sns\n",
    "import matplotlib.pyplot as plt\n",
    "sns.barplot(x='Time Category', y='Number of Attacks', data=df_time, palette='Blues')\n",
    "plt.title('Shark Attacks Concentration by Time of Day')\n",
    "plt.xlabel('Time Category')\n",
    "plt.ylabel('Number of Attacks')\n",
    "plt.xticks(rotation=45)\n",
    "plt.show()\n",
    "\n",
    "#Conclusion: we could easily determine that shark attacks are most concentrated during NOON based on the dataset."
   ]
  },
  {
   "cell_type": "markdown",
   "metadata": {},
   "source": [
    "# HYPOTHESIS: SOME SHARK SPECIES ARE MORE DANGEROUS THAN OTHERS"
   ]
  },
  {
   "cell_type": "code",
   "execution_count": 2114,
   "metadata": {},
   "outputs": [
    {
     "name": "stderr",
     "output_type": "stream",
     "text": [
      "/var/folders/7w/s5bmwwgs2176bk3y33c2nv2m0000gn/T/ipykernel_93588/861426949.py:2: FutureWarning: The default of observed=False is deprecated and will be changed to True in a future version of pandas. Pass observed=False to retain current behavior or observed=True to adopt the future default and silence this warning.\n",
      "  species_severity_count = shark_attacks_clean.groupby(['species', 'severity_score']).size().unstack(fill_value=0)\n"
     ]
    }
   ],
   "source": [
    "#group by species and severity score, count occurences for each species\n",
    "species_severity_count = shark_attacks_clean.groupby(['species', 'severity_score']).size().unstack(fill_value=0)\n",
    "\n",
    "#drop MYSTERY SHARK row\n",
    "species_severity_count = species_severity_count.drop(\"MYSTERY SHARK\")\n",
    "\n",
    "#reorder the columns\n",
    "severity_order = [1, 2, 3]\n",
    "species_severity_count = species_severity_count[severity_order]\n",
    "\n",
    "\n",
    "#calculate the percentage\n",
    "total_counts = species_severity_count.sum(axis=1)\n",
    "\n",
    "percentage_severity = species_severity_count.div(total_counts, axis=0) * 100\n",
    "\n",
    "\n",
    "#Filter out low incidence species\n",
    "species_with_high_counts = total_counts[total_counts > 15].index\n",
    "\n",
    "filtered_species = percentage_severity.loc[species_with_high_counts]\n",
    "\n",
    "#convert to string so seaborn correctly filters out dropped species\n",
    "filtered_species.index = filtered_species.index.astype(str)\n"
   ]
  },
  {
   "cell_type": "code",
   "execution_count": 2115,
   "metadata": {},
   "outputs": [
    {
     "data": {
      "text/html": [
       "<div>\n",
       "<style scoped>\n",
       "    .dataframe tbody tr th:only-of-type {\n",
       "        vertical-align: middle;\n",
       "    }\n",
       "\n",
       "    .dataframe tbody tr th {\n",
       "        vertical-align: top;\n",
       "    }\n",
       "\n",
       "    .dataframe thead th {\n",
       "        text-align: right;\n",
       "    }\n",
       "</style>\n",
       "<table border=\"1\" class=\"dataframe\">\n",
       "  <thead>\n",
       "    <tr style=\"text-align: right;\">\n",
       "      <th>severity_score</th>\n",
       "      <th>1</th>\n",
       "      <th>2</th>\n",
       "      <th>3</th>\n",
       "    </tr>\n",
       "    <tr>\n",
       "      <th>species</th>\n",
       "      <th></th>\n",
       "      <th></th>\n",
       "      <th></th>\n",
       "    </tr>\n",
       "  </thead>\n",
       "  <tbody>\n",
       "    <tr>\n",
       "      <th>ZAMBEZI SHARK</th>\n",
       "      <td>10.000000</td>\n",
       "      <td>60.000000</td>\n",
       "      <td>30.000000</td>\n",
       "    </tr>\n",
       "    <tr>\n",
       "      <th>TIGER SHARK</th>\n",
       "      <td>9.696970</td>\n",
       "      <td>66.666667</td>\n",
       "      <td>23.636364</td>\n",
       "    </tr>\n",
       "    <tr>\n",
       "      <th>GREAT WHITE SHARK</th>\n",
       "      <td>17.886179</td>\n",
       "      <td>59.214092</td>\n",
       "      <td>22.899729</td>\n",
       "    </tr>\n",
       "    <tr>\n",
       "      <th>BULL SHARK</th>\n",
       "      <td>2.336449</td>\n",
       "      <td>78.504673</td>\n",
       "      <td>19.158879</td>\n",
       "    </tr>\n",
       "    <tr>\n",
       "      <th>BLUE SHARK</th>\n",
       "      <td>13.333333</td>\n",
       "      <td>70.000000</td>\n",
       "      <td>16.666667</td>\n",
       "    </tr>\n",
       "    <tr>\n",
       "      <th>WHALER SHARK</th>\n",
       "      <td>21.794872</td>\n",
       "      <td>70.512821</td>\n",
       "      <td>7.692308</td>\n",
       "    </tr>\n",
       "  </tbody>\n",
       "</table>\n",
       "</div>"
      ],
      "text/plain": [
       "severity_score             1          2          3\n",
       "species                                           \n",
       "ZAMBEZI SHARK      10.000000  60.000000  30.000000\n",
       "TIGER SHARK         9.696970  66.666667  23.636364\n",
       "GREAT WHITE SHARK  17.886179  59.214092  22.899729\n",
       "BULL SHARK          2.336449  78.504673  19.158879\n",
       "BLUE SHARK         13.333333  70.000000  16.666667\n",
       "WHALER SHARK       21.794872  70.512821   7.692308"
      ]
     },
     "execution_count": 2115,
     "metadata": {},
     "output_type": "execute_result"
    }
   ],
   "source": [
    "#sort by occurence of FATALITY\n",
    "sorted_by_category_3 = filtered_species.sort_values(by=3, ascending=False)\n",
    "\n",
    "top_severity_3 = sorted_by_category_3.head(6)\n",
    "top_severity_3"
   ]
  },
  {
   "cell_type": "code",
   "execution_count": 2116,
   "metadata": {},
   "outputs": [
    {
     "name": "stderr",
     "output_type": "stream",
     "text": [
      "/var/folders/7w/s5bmwwgs2176bk3y33c2nv2m0000gn/T/ipykernel_93588/1255495480.py:10: FutureWarning: \n",
      "\n",
      "Passing `palette` without assigning `hue` is deprecated and will be removed in v0.14.0. Assign the `y` variable to `hue` and set `legend=False` for the same effect.\n",
      "\n",
      "  sns.barplot(x=top_severity_3[3], y=top_severity_3['species'], palette='viridis')\n"
     ]
    },
    {
     "data": {
      "image/png": "[encoded data removed]",
      "text/plain": [
       "<Figure size 1000x600 with 1 Axes>"
      ]
     },
     "metadata": {},
     "output_type": "display_data"
    }
   ],
   "source": [
    "#MOST DANGEROUS SHARK SPECIES VISUALISATION\n",
    "\n",
    "import seaborn as sns\n",
    "\n",
    "\n",
    "top_severity_3 = top_severity_3.reset_index()\n",
    "\n",
    "# Create Bar Plot\n",
    "plt.figure(figsize=(10, 6))\n",
    "sns.barplot(x=top_severity_3[3], y=top_severity_3['species'], palette='viridis')\n",
    "\n",
    "plt.title('Most Dangerous Shark Species!')\n",
    "plt.xlabel('Severity Score 3 (%)')\n",
    "plt.ylabel('Species')\n",
    "\n",
    "plt.show()"
   ]
  },
  {
   "cell_type": "code",
   "execution_count": 2117,
   "metadata": {},
   "outputs": [
    {
     "data": {
      "text/html": [
       "<div>\n",
       "<style scoped>\n",
       "    .dataframe tbody tr th:only-of-type {\n",
       "        vertical-align: middle;\n",
       "    }\n",
       "\n",
       "    .dataframe tbody tr th {\n",
       "        vertical-align: top;\n",
       "    }\n",
       "\n",
       "    .dataframe thead th {\n",
       "        text-align: right;\n",
       "    }\n",
       "</style>\n",
       "<table border=\"1\" class=\"dataframe\">\n",
       "  <thead>\n",
       "    <tr style=\"text-align: right;\">\n",
       "      <th>severity_score</th>\n",
       "      <th>1</th>\n",
       "      <th>2</th>\n",
       "      <th>3</th>\n",
       "    </tr>\n",
       "    <tr>\n",
       "      <th>species</th>\n",
       "      <th></th>\n",
       "      <th></th>\n",
       "      <th></th>\n",
       "    </tr>\n",
       "  </thead>\n",
       "  <tbody>\n",
       "    <tr>\n",
       "      <th>HAMMERHEAD SHARK</th>\n",
       "      <td>22.916667</td>\n",
       "      <td>72.916667</td>\n",
       "      <td>4.166667</td>\n",
       "    </tr>\n",
       "    <tr>\n",
       "      <th>MAKO SHARK</th>\n",
       "      <td>22.807018</td>\n",
       "      <td>73.684211</td>\n",
       "      <td>3.508772</td>\n",
       "    </tr>\n",
       "    <tr>\n",
       "      <th>SEVENGILL SHARK</th>\n",
       "      <td>18.181818</td>\n",
       "      <td>81.818182</td>\n",
       "      <td>0.000000</td>\n",
       "    </tr>\n",
       "    <tr>\n",
       "      <th>NURSE SHARK</th>\n",
       "      <td>10.714286</td>\n",
       "      <td>88.392857</td>\n",
       "      <td>0.892857</td>\n",
       "    </tr>\n",
       "    <tr>\n",
       "      <th>RAGGEDTOOTH SHARK</th>\n",
       "      <td>9.302326</td>\n",
       "      <td>90.697674</td>\n",
       "      <td>0.000000</td>\n",
       "    </tr>\n",
       "    <tr>\n",
       "      <th>WOBBEGONG SHARK</th>\n",
       "      <td>7.547170</td>\n",
       "      <td>92.452830</td>\n",
       "      <td>0.000000</td>\n",
       "    </tr>\n",
       "  </tbody>\n",
       "</table>\n",
       "</div>"
      ],
      "text/plain": [
       "severity_score             1          2         3\n",
       "species                                          \n",
       "HAMMERHEAD SHARK   22.916667  72.916667  4.166667\n",
       "MAKO SHARK         22.807018  73.684211  3.508772\n",
       "SEVENGILL SHARK    18.181818  81.818182  0.000000\n",
       "NURSE SHARK        10.714286  88.392857  0.892857\n",
       "RAGGEDTOOTH SHARK   9.302326  90.697674  0.000000\n",
       "WOBBEGONG SHARK     7.547170  92.452830  0.000000"
      ]
     },
     "metadata": {},
     "output_type": "display_data"
    }
   ],
   "source": [
    "#sort by occurence of NO-INJURY\n",
    "top_severity_1 = filtered_species.sort_values(by=1, ascending=False)\n",
    "\n",
    "#filter for lower than 5% fatality rate:\n",
    "top_severity_1_notdeadly = top_severity_1[top_severity_1[3]<5].head(6)\n",
    "display(top_severity_1_notdeadly)"
   ]
  },
  {
   "cell_type": "code",
   "execution_count": 2118,
   "metadata": {},
   "outputs": [
    {
     "name": "stderr",
     "output_type": "stream",
     "text": [
      "/var/folders/7w/s5bmwwgs2176bk3y33c2nv2m0000gn/T/ipykernel_93588/144674034.py:7: FutureWarning: \n",
      "\n",
      "Passing `palette` without assigning `hue` is deprecated and will be removed in v0.14.0. Assign the `y` variable to `hue` and set `legend=False` for the same effect.\n",
      "\n",
      "  sns.barplot(x=top_severity_1_notdeadly[1], y=top_severity_1_notdeadly['species'], palette='viridis')\n"
     ]
    },
    {
     "data": {
      "image/png": "[encoded data removed]",
      "text/plain": [
       "<Figure size 1000x600 with 1 Axes>"
      ]
     },
     "metadata": {},
     "output_type": "display_data"
    }
   ],
   "source": [
    "#FRIENDLIEST SHARK SPECIES VISUALISATION\n",
    "\n",
    "top_severity_1_notdeadly = top_severity_1_notdeadly.reset_index()\n",
    "\n",
    "\n",
    "plt.figure(figsize=(10, 6))\n",
    "sns.barplot(x=top_severity_1_notdeadly[1], y=top_severity_1_notdeadly['species'], palette='viridis')\n",
    "\n",
    "plt.title('Friendliest Shark Species :)')\n",
    "plt.xlabel('Severity Score 1 (%)')\n",
    "plt.ylabel('Species')\n",
    "\n",
    "plt.show()"
   ]
  },
  {
   "cell_type": "markdown",
   "metadata": {},
   "source": [
    "# HYPOTHESIS: SOME COUNTRIES HAVE HIGHER PROVOKED / TOTAL ATTACK RATIO"
   ]
  },
  {
   "cell_type": "code",
   "execution_count": 2119,
   "metadata": {},
   "outputs": [],
   "source": [
    "## working with the clean dataframe instead of main, clearing unused information\n",
    "sa_clean = shark_attacks_clean[[\"date\", \"time\", \"country\", \"state\", \"location\", \"type\", \"severity\"]].copy()"
   ]
  },
  {
   "cell_type": "code",
   "execution_count": 2120,
   "metadata": {},
   "outputs": [],
   "source": [
    "## FUNCTIONS REQUIRED, to be sent to a different file\n",
    "\n",
    "\n",
    "def group_and_filter_by_type(df, groupby_cols, attack_type=None, count_threshold=0):\n",
    "    \n",
    "    \"\"\"\n",
    "    Groups the DataFrame by specified columns and applies filter conditions.\n",
    "\n",
    "    Parameters:\n",
    "    - df: The DataFrame to group and filter\n",
    "    - groupby_cols: List of columns to group by\n",
    "    - filter_conditions: A dictionary containing column names and their corresponding filter conditions\n",
    "    \n",
    "    Returns:\n",
    "    - A filtered DataFrame grouped by specified columns with a 'count' column\n",
    "    \"\"\"\n",
    "     # Group by the specified columns and calculate the count of each group\n",
    "    grouped_df = df.groupby(groupby_cols).size().reset_index(name='count')\n",
    "    \n",
    "    # Apply the count filter\n",
    "    grouped_df = grouped_df[grouped_df['count'] > count_threshold]\n",
    "    \n",
    "    # Apply the type filter if attack_type is provided\n",
    "    if attack_type:\n",
    "        grouped_df = grouped_df[grouped_df['type'] == attack_type]\n",
    "\n",
    "    return grouped_df\n",
    "\n",
    "def clean_merge_and_plot(p_sa, up_sa, merge_on=\"country\", provoked_col=\"count_x\", unprovoked_col=\"count_y\", drop_columns=None):\n",
    "    \"\"\"\n",
    "    Merges two dataframes, calculates totals and provoked/unprovoked ratios, and visualizes results.\n",
    "\n",
    "    Parameters:\n",
    "    - p_sa: DataFrame for provoked attacks\n",
    "    - up_sa: DataFrame for unprovoked attacks\n",
    "    - merge_on: Column name to merge on (default: 'country')\n",
    "    - provoked_col: Column name for provoked counts (default: 'count_x')\n",
    "    - unprovoked_col: Column name for unprovoked counts (default: 'count_y')\n",
    "    - drop_columns: list of column names to drop, default None\n",
    "    \n",
    "    Returns:\n",
    "    - A DataFrame sorted by the provoked/unprovoked ratio\n",
    "    - A seaborn plot showing the ratio of provoked attacks by country\n",
    "    \"\"\"\n",
    "    # Merge the dataframes\n",
    "    merged_df = pd.merge(\n",
    "        left=p_sa,\n",
    "        right=up_sa,\n",
    "        on=merge_on,\n",
    "        how='inner'\n",
    "        ).reset_index(drop=True).rename(\n",
    "                                        columns={\n",
    "                                            provoked_col: \"provoked\",\n",
    "                                            unprovoked_col: \"unprovoked\"\n",
    "                                            }\n",
    "                                        )\n",
    "    \n",
    "    # Calculate total and ratio directly on columns (vectorized)\n",
    "    merged_df[\"total\"] = merged_df[\"provoked\"] + merged_df[\"unprovoked\"]\n",
    "    merged_df[\"ratio\"] = (merged_df[\"provoked\"] / merged_df[\"total\"] * 100).round(2)\n",
    "\n",
    "    # Sort by the 'ratio' column in descending order\n",
    "    merged_df = merged_df.sort_values(by=\"ratio\", ascending=False).reset_index(drop=True)\n",
    "\n",
    "    # Drop columns if provided\n",
    "    if drop_columns:\n",
    "        columns_to_drop = [col for col in drop_columns if col in merged_df.columns]\n",
    "        merged_df = merged_df.drop(columns=columns_to_drop)\n",
    "\n",
    "    # Print the cleaned DataFrame\n",
    "    #display(merged_df)\n",
    "\n",
    "    # Plotting the ratio of provoked attacks by country\n",
    "    sns.catplot(data=merged_df, kind=\"bar\", x=merge_on, y=\"ratio\", hue=\"total\")\n",
    "    plt.xticks(rotation=90)\n",
    "    plt.ylabel(\"Provoked / Total attacks\")\n",
    "    plt.tight_layout()\n",
    "    plt.show()\n",
    "\n",
    "    return merged_df\n"
   ]
  },
  {
   "cell_type": "code",
   "execution_count": 2121,
   "metadata": {},
   "outputs": [
    {
     "name": "stderr",
     "output_type": "stream",
     "text": [
      "/var/folders/7w/s5bmwwgs2176bk3y33c2nv2m0000gn/T/ipykernel_93588/2526044317.py:18: FutureWarning: The default of observed=False is deprecated and will be changed to True in a future version of pandas. Pass observed=False to retain current behavior or observed=True to adopt the future default and silence this warning.\n",
      "  grouped_df = df.groupby(groupby_cols).size().reset_index(name='count')\n",
      "/var/folders/7w/s5bmwwgs2176bk3y33c2nv2m0000gn/T/ipykernel_93588/2526044317.py:18: FutureWarning: The default of observed=False is deprecated and will be changed to True in a future version of pandas. Pass observed=False to retain current behavior or observed=True to adopt the future default and silence this warning.\n",
      "  grouped_df = df.groupby(groupby_cols).size().reset_index(name='count')\n",
      "/var/folders/7w/s5bmwwgs2176bk3y33c2nv2m0000gn/T/ipykernel_93588/2526044317.py:18: FutureWarning: The default of observed=False is deprecated and will be changed to True in a future version of pandas. Pass observed=False to retain current behavior or observed=True to adopt the future default and silence this warning.\n",
      "  grouped_df = df.groupby(groupby_cols).size().reset_index(name='count')\n"
     ]
    },
    {
     "data": {
      "image/png": "[encoded data removed]",
      "text/plain": [
       "<Figure size 500x500 with 1 Axes>"
      ]
     },
     "metadata": {},
     "output_type": "display_data"
    },
    {
     "data": {
      "text/html": [
       "<div>\n",
       "<style scoped>\n",
       "    .dataframe tbody tr th:only-of-type {\n",
       "        vertical-align: middle;\n",
       "    }\n",
       "\n",
       "    .dataframe tbody tr th {\n",
       "        vertical-align: top;\n",
       "    }\n",
       "\n",
       "    .dataframe thead th {\n",
       "        text-align: right;\n",
       "    }\n",
       "</style>\n",
       "<table border=\"1\" class=\"dataframe\">\n",
       "  <thead>\n",
       "    <tr style=\"text-align: right;\">\n",
       "      <th></th>\n",
       "      <th>country</th>\n",
       "      <th>type_x</th>\n",
       "      <th>provoked</th>\n",
       "      <th>type_y</th>\n",
       "      <th>unprovoked</th>\n",
       "      <th>total</th>\n",
       "      <th>ratio</th>\n",
       "    </tr>\n",
       "  </thead>\n",
       "  <tbody>\n",
       "  </tbody>\n",
       "</table>\n",
       "</div>"
      ],
      "text/plain": [
       "Empty DataFrame\n",
       "Columns: [country, type_x, provoked, type_y, unprovoked, total, ratio]\n",
       "Index: []"
      ]
     },
     "execution_count": 2121,
     "metadata": {},
     "output_type": "execute_result"
    }
   ],
   "source": [
    "#### whole-time overview\n",
    "\n",
    "# Converts country to lowercase    \n",
    "sa_clean[\"country\"] = sa_clean[\"country\"].apply(lambda x: x.lower() if isinstance(x,str) else x)\n",
    "\n",
    "# introduces country sheet. Converts into a list  ### Convert into dictionary, pass it through repnan or JP's\n",
    "replace_to_nan(sa_clean[\"country\"], [\"england\",\"scotland\", \"cayman islands\", \"bermuda\", \"british virgin islands\", \"british overseas territory\"], \"united kingdom\")\n",
    "replace_to_nan(sa_clean[\"country\"], [\"usa\", \"hawaii\"], \"united states of america\")\n",
    "replace_to_nan(sa_clean[\"country\"], [\"reunion\"], \"france\")\n",
    "replace_to_nan(sa_clean[\"country\"], [\"columbia\"], \"colombia\")\n",
    "replace_to_nan(sa_clean[\"country\"], [\"new guinea\"], \"papua new guinea\")\n",
    "\n",
    "# unify country, converts all low value \"country\" ocorrences into <NA>. Also sets Country as string-type\n",
    "sa_clean[\"country\"] = sa_clean[\"country\"].where(sa_clean[\"country\"].isin(country_list)).astype(\"string\")\n",
    "\n",
    "# this should replace all the bottom part\n",
    "provoked_sa_country_type = group_and_filter_by_type(sa_clean, [\"country\", \"type\"], attack_type=\"PROVOKED\", count_threshold=3)\n",
    "unprovoked_sa_country_type = group_and_filter_by_type(sa_clean, [\"country\", \"type\"], attack_type=\"UNPROVOKED\", count_threshold=4)\n",
    "watercraft_sa_country_type = group_and_filter_by_type(sa_clean, [\"country\", \"type\"], attack_type=\"WATERCRAFT\", count_threshold=0)\n",
    "\n",
    "clean_merge_and_plot(provoked_sa_country_type, unprovoked_sa_country_type, merge_on=\"country\", provoked_col=\"count_x\", unprovoked_col=\"count_y\", drop_columns=None)"
   ]
  },
  {
   "cell_type": "code",
   "execution_count": 2122,
   "metadata": {},
   "outputs": [
    {
     "name": "stderr",
     "output_type": "stream",
     "text": [
      "/var/folders/7w/s5bmwwgs2176bk3y33c2nv2m0000gn/T/ipykernel_93588/2526044317.py:18: FutureWarning: The default of observed=False is deprecated and will be changed to True in a future version of pandas. Pass observed=False to retain current behavior or observed=True to adopt the future default and silence this warning.\n",
      "  grouped_df = df.groupby(groupby_cols).size().reset_index(name='count')\n",
      "/var/folders/7w/s5bmwwgs2176bk3y33c2nv2m0000gn/T/ipykernel_93588/2526044317.py:18: FutureWarning: The default of observed=False is deprecated and will be changed to True in a future version of pandas. Pass observed=False to retain current behavior or observed=True to adopt the future default and silence this warning.\n",
      "  grouped_df = df.groupby(groupby_cols).size().reset_index(name='count')\n",
      "/var/folders/7w/s5bmwwgs2176bk3y33c2nv2m0000gn/T/ipykernel_93588/2526044317.py:18: FutureWarning: The default of observed=False is deprecated and will be changed to True in a future version of pandas. Pass observed=False to retain current behavior or observed=True to adopt the future default and silence this warning.\n",
      "  grouped_df = df.groupby(groupby_cols).size().reset_index(name='count')\n"
     ]
    },
    {
     "data": {
      "image/png": "[encoded data removed]",
      "text/plain": [
       "<Figure size 500x500 with 1 Axes>"
      ]
     },
     "metadata": {},
     "output_type": "display_data"
    },
    {
     "data": {
      "text/html": [
       "<div>\n",
       "<style scoped>\n",
       "    .dataframe tbody tr th:only-of-type {\n",
       "        vertical-align: middle;\n",
       "    }\n",
       "\n",
       "    .dataframe tbody tr th {\n",
       "        vertical-align: top;\n",
       "    }\n",
       "\n",
       "    .dataframe thead th {\n",
       "        text-align: right;\n",
       "    }\n",
       "</style>\n",
       "<table border=\"1\" class=\"dataframe\">\n",
       "  <thead>\n",
       "    <tr style=\"text-align: right;\">\n",
       "      <th></th>\n",
       "      <th>country</th>\n",
       "      <th>provoked</th>\n",
       "      <th>unprovoked</th>\n",
       "      <th>total</th>\n",
       "      <th>ratio</th>\n",
       "    </tr>\n",
       "  </thead>\n",
       "  <tbody>\n",
       "  </tbody>\n",
       "</table>\n",
       "</div>"
      ],
      "text/plain": [
       "Empty DataFrame\n",
       "Columns: [country, provoked, unprovoked, total, ratio]\n",
       "Index: []"
      ]
     },
     "execution_count": 2122,
     "metadata": {},
     "output_type": "execute_result"
    }
   ],
   "source": [
    "###### Lets try to get last 50yrs\n",
    "date_start = \"01-01-1975\"\n",
    "date_start= pd.to_datetime(date_start, format='%d-%m-%Y')\n",
    "sa_clean[\"date\"] = sa_clean[\"date\"].astype('datetime64[ns]')\n",
    "\n",
    "# Makes a new database with only last 50yrs score (start jan-1)    \n",
    "sa_clean_new = sa_clean[sa_clean['date'] > (date_start)].copy()\n",
    "\n",
    "# Apply the group_and_filter function to get the respective DataFrames\n",
    "p_sa_country_type_new = group_and_filter_by_type(sa_clean_new, [\"country\", \"type\"], attack_type=\"PROVOKED\", count_threshold=2)\n",
    "up_sa_country_type_new = group_and_filter_by_type(sa_clean_new, [\"country\", \"type\"], attack_type=\"UNPROVOKED\", count_threshold=4)\n",
    "wc_sa_country_type_new = group_and_filter_by_type(sa_clean_new, [\"country\", \"type\"], attack_type=\"WATERCRAFT\")\n",
    "\n",
    "# Plots the info based on clean and merge function\n",
    "clean_merge_and_plot(p_sa_country_type_new, up_sa_country_type_new, drop_columns=[\"type_x\", \"type_y\"])"
   ]
  },
  {
   "cell_type": "code",
   "execution_count": 2123,
   "metadata": {},
   "outputs": [
    {
     "name": "stderr",
     "output_type": "stream",
     "text": [
      "/var/folders/7w/s5bmwwgs2176bk3y33c2nv2m0000gn/T/ipykernel_93588/2526044317.py:18: FutureWarning: The default of observed=False is deprecated and will be changed to True in a future version of pandas. Pass observed=False to retain current behavior or observed=True to adopt the future default and silence this warning.\n",
      "  grouped_df = df.groupby(groupby_cols).size().reset_index(name='count')\n",
      "/var/folders/7w/s5bmwwgs2176bk3y33c2nv2m0000gn/T/ipykernel_93588/1958761944.py:6: FutureWarning: The default of observed=False is deprecated and will be changed to True in a future version of pandas. Pass observed=False to retain current behavior or observed=True to adopt the future default and silence this warning.\n",
      "  total_counts = sa_sev.groupby('type')['count'].sum().reset_index(name='total_count')\n"
     ]
    },
    {
     "data": {
      "text/html": [
       "<div>\n",
       "<style scoped>\n",
       "    .dataframe tbody tr th:only-of-type {\n",
       "        vertical-align: middle;\n",
       "    }\n",
       "\n",
       "    .dataframe tbody tr th {\n",
       "        vertical-align: top;\n",
       "    }\n",
       "\n",
       "    .dataframe thead th {\n",
       "        text-align: right;\n",
       "    }\n",
       "</style>\n",
       "<table border=\"1\" class=\"dataframe\">\n",
       "  <thead>\n",
       "    <tr style=\"text-align: right;\">\n",
       "      <th></th>\n",
       "      <th>type</th>\n",
       "      <th>severity</th>\n",
       "      <th>count</th>\n",
       "      <th>total_count</th>\n",
       "      <th>percentage</th>\n",
       "    </tr>\n",
       "  </thead>\n",
       "  <tbody>\n",
       "    <tr>\n",
       "      <th>0</th>\n",
       "      <td>PROVOKED</td>\n",
       "      <td>FATALITY</td>\n",
       "      <td>15</td>\n",
       "      <td>630</td>\n",
       "      <td>2.380952</td>\n",
       "    </tr>\n",
       "    <tr>\n",
       "      <th>1</th>\n",
       "      <td>PROVOKED</td>\n",
       "      <td>OTHER</td>\n",
       "      <td>75</td>\n",
       "      <td>630</td>\n",
       "      <td>11.904762</td>\n",
       "    </tr>\n",
       "    <tr>\n",
       "      <th>2</th>\n",
       "      <td>PROVOKED</td>\n",
       "      <td>INJURY</td>\n",
       "      <td>540</td>\n",
       "      <td>630</td>\n",
       "      <td>85.714286</td>\n",
       "    </tr>\n",
       "    <tr>\n",
       "      <th>3</th>\n",
       "      <td>WATERCRAFT</td>\n",
       "      <td>FATALITY</td>\n",
       "      <td>12</td>\n",
       "      <td>362</td>\n",
       "      <td>3.314917</td>\n",
       "    </tr>\n",
       "    <tr>\n",
       "      <th>4</th>\n",
       "      <td>WATERCRAFT</td>\n",
       "      <td>OTHER</td>\n",
       "      <td>200</td>\n",
       "      <td>362</td>\n",
       "      <td>55.248619</td>\n",
       "    </tr>\n",
       "    <tr>\n",
       "      <th>5</th>\n",
       "      <td>WATERCRAFT</td>\n",
       "      <td>INJURY</td>\n",
       "      <td>150</td>\n",
       "      <td>362</td>\n",
       "      <td>41.436464</td>\n",
       "    </tr>\n",
       "    <tr>\n",
       "      <th>6</th>\n",
       "      <td>INVALID</td>\n",
       "      <td>FATALITY</td>\n",
       "      <td>71</td>\n",
       "      <td>594</td>\n",
       "      <td>11.952862</td>\n",
       "    </tr>\n",
       "    <tr>\n",
       "      <th>7</th>\n",
       "      <td>INVALID</td>\n",
       "      <td>OTHER</td>\n",
       "      <td>295</td>\n",
       "      <td>594</td>\n",
       "      <td>49.663300</td>\n",
       "    </tr>\n",
       "    <tr>\n",
       "      <th>8</th>\n",
       "      <td>INVALID</td>\n",
       "      <td>INJURY</td>\n",
       "      <td>228</td>\n",
       "      <td>594</td>\n",
       "      <td>38.383838</td>\n",
       "    </tr>\n",
       "    <tr>\n",
       "      <th>9</th>\n",
       "      <td>UNPROVOKED</td>\n",
       "      <td>FATALITY</td>\n",
       "      <td>1315</td>\n",
       "      <td>5219</td>\n",
       "      <td>25.196398</td>\n",
       "    </tr>\n",
       "    <tr>\n",
       "      <th>10</th>\n",
       "      <td>UNPROVOKED</td>\n",
       "      <td>OTHER</td>\n",
       "      <td>357</td>\n",
       "      <td>5219</td>\n",
       "      <td>6.840391</td>\n",
       "    </tr>\n",
       "    <tr>\n",
       "      <th>11</th>\n",
       "      <td>UNPROVOKED</td>\n",
       "      <td>INJURY</td>\n",
       "      <td>3547</td>\n",
       "      <td>5219</td>\n",
       "      <td>67.963211</td>\n",
       "    </tr>\n",
       "  </tbody>\n",
       "</table>\n",
       "</div>"
      ],
      "text/plain": [
       "          type  severity  count  total_count  percentage\n",
       "0     PROVOKED  FATALITY     15          630    2.380952\n",
       "1     PROVOKED     OTHER     75          630   11.904762\n",
       "2     PROVOKED    INJURY    540          630   85.714286\n",
       "3   WATERCRAFT  FATALITY     12          362    3.314917\n",
       "4   WATERCRAFT     OTHER    200          362   55.248619\n",
       "5   WATERCRAFT    INJURY    150          362   41.436464\n",
       "6      INVALID  FATALITY     71          594   11.952862\n",
       "7      INVALID     OTHER    295          594   49.663300\n",
       "8      INVALID    INJURY    228          594   38.383838\n",
       "9   UNPROVOKED  FATALITY   1315         5219   25.196398\n",
       "10  UNPROVOKED     OTHER    357         5219    6.840391\n",
       "11  UNPROVOKED    INJURY   3547         5219   67.963211"
      ]
     },
     "metadata": {},
     "output_type": "display_data"
    },
    {
     "data": {
      "image/png": "[encoded data removed]",
      "text/plain": [
       "<Figure size 648.25x500 with 1 Axes>"
      ]
     },
     "metadata": {},
     "output_type": "display_data"
    }
   ],
   "source": [
    "## hipotesis: provoked attack have higher severity than unprovoked attacks // REBUKED\n",
    "\n",
    "sa_sev = group_and_filter_by_type(sa_clean, [\"type\",\"severity\"], attack_type=None, count_threshold=0)\n",
    "\n",
    "#Calculates total counts for each type\n",
    "total_counts = sa_sev.groupby('type')['count'].sum().reset_index(name='total_count')\n",
    "\n",
    "#Merge total counts back \n",
    "sa_sev = sa_sev.merge(total_counts, on='type')\n",
    "\n",
    "#Calculate percentage\n",
    "sa_sev['percentage'] = (sa_sev['count'] / sa_sev['total_count']) * 100\n",
    "\n",
    "# Display the result\n",
    "display(sa_sev[['type', 'severity', 'count', 'total_count', 'percentage']])\n",
    "\n",
    "sns.catplot(data=sa_sev, kind=\"bar\", x=\"severity\", y=\"percentage\",hue=\"type\")\n",
    "plt.xticks(rotation=90)\n",
    "plt.ylabel(\"Provoked / Total attacks\")\n",
    "plt.show()"
   ]
  },
  {
   "cell_type": "markdown",
   "metadata": {},
   "source": [
    "# PLAN"
   ]
  },
  {
   "cell_type": "code",
   "execution_count": 2124,
   "metadata": {},
   "outputs": [],
   "source": [
    "# Source, PDF, Case Number as possible duplicate finder or year / date fill\n",
    "\n",
    "# Henning : Date, Type\n",
    "# Ricardo : Country, State\n",
    "# Linh : Location, Activity\n",
    "# Jp : Injury, Time\n",
    "\n",
    "# Type : category : Merge some columns based on categories. Trim labels. Nan into invalid. Final => Provoked, Unprovoked, Invalid\n",
    "# Date : datetime : Clean \"Reported\" - Harmonize Format - Cast weird into NaT. Final => Dates (as datetime), NaT\n",
    "# Country : string : Strip spaces - Formatting - Replace weird characters - cast weird values as NaN => Strings, Nan\n",
    "# State : string : Strip spaces - Formatting - Replace weird characters - cast weird values as NaN => Strings, Nan\n",
    "# Location : string : Strip spaces - Formatting - Replace weird characters - cast weird values as NaN => Strings, Nan\n",
    "# Activity : category : Merge some columns based on categories. Trim labels. Nan into invalid. Final => Few categories to be determined\n",
    "# Injury : category : Merge columns based on keywords. Nan into other. Final => Fatality, Injury, Other\n",
    "# Time : category : Cast into categories Final => morning (6-10) noon (10-14) afternoon( 14-18) dusk (18-22) night (22 - 2) dawn (2-6) maybe as integers (0-5)\n",
    "\n",
    "# Todo\n",
    "# Remove obvious duplicate (entire line) - Ricardo\n",
    "# Remove fuzzy duplicates (case number? dates?) - Ricardo\n",
    "\n",
    "# Functions :\n",
    "# Merge categories : (*categories to be merged, target) - Henning\n",
    "# Strip function : strips spaces - Linh\n",
    "# Replace as Nan, Nat, ... function - Ricardo\n",
    "# DONE - Replace by keyword function - Jp\n",
    "# DONE - Cast to dateTime function\n",
    "# Matching function (find similarities, keyword based?)\n",
    "# DONE - Reformat dates, strings\n",
    "# Filter function."
   ]
  },
  {
   "cell_type": "markdown",
   "metadata": {},
   "source": [
    "## Selecting\n",
    "- Select relevant columns\n",
    "- Analyse relevant columns\n",
    "\n",
    "## Cleaning :\n",
    "- Cast to appropriate data types\n",
    "    - General cleaning\n",
    "        - identify duplicates\n",
    "            - fuzzy\n",
    "        - removing duplicates\n",
    "            - remove\n",
    "            - merge\n",
    "        - handling null values\n",
    "            - remove\n",
    "            - replace\n",
    "        - manipulating strings\n",
    "        - formatting the data.\n",
    "\n",
    "- Wrong inputs\n",
    "- Outliers"
   ]
  },
  {
   "cell_type": "markdown",
   "metadata": {},
   "source": [
    "### GENERAL CLEANING\n",
    "1. Rename columns\n",
    "2. Drop columns\n",
    "3. Remove duplicates\n",
    "    - Remove full dupes\n",
    "    - Remove fuzzy search\n",
    "4. Strip values\n",
    "5. Reset Index\n",
    "\n",
    "### SPECIFIC CLEANING\n",
    "1. Search / Replace / Reformat strings\n",
    "2. Merge categories\n",
    "3. Cast to Null\n",
    "4. Cast correct type\n",
    "5. Create new columns\n"
   ]
  },
  {
   "cell_type": "markdown",
   "metadata": {},
   "source": [
    "## Hypothesis\n",
    "\n",
    "### TIME\n",
    "- Shark attacks are seasonal (Summer)\n",
    "- Shark attacks are increasing \n",
    "- Shark attacks are more concentrated in the PM \n",
    "\n",
    "### LOCATION\n",
    "- Some countries are more attack prone (Australia)\n",
    "- Some countries are more likely to be fatal (Australia)\n",
    "\n",
    "\n",
    "### DEMOGRAPHICS\n",
    "- Males are more likely to get attacked\n",
    "- Males are more likely to get provoke a shark\n",
    "- Provoked attacked are more fatal\n",
    "- Young persons are more likely to get attacked\n",
    "- Old persons are more likely to get killed\n",
    "\n",
    "- Names more likely to get attacked (John)\n",
    "\n",
    "### OTHER\n",
    "- Some species are more aggressive (Tiger Shark)\n",
    "- Some activities are more likely (Surfing)\n",
    "- Some activities are more fatal\n",
    "\n",
    "- Full moon? 😂\n",
    "\n",
    "\n",
    "Retained :\n",
    "- Shark Species have a gender preference (score) => JP => Heinning\n",
    "- Some countries are more provocative against sharks* => Ricardo\n",
    "- Shark attacks are more concentrated in the PM => Linh\n",
    "\n",
    "- Names more likely to get attacked (John) => JP?"
   ]
  },
  {
   "cell_type": "markdown",
   "metadata": {},
   "source": [
    "## Business Ideas\n",
    "\n",
    "- App that gives a likelyhood of attack based on location and time\n",
    "- Vacations far away from sharks for phobics\n",
    "- Witness attacks for masochists\n",
    "\n",
    "- Surf school at the safest places / seasons\n",
    "- Fishing supplies => shark repellant by activities\n",
    "- Safety training to avoid provocations / live in harmony\n",
    "\n",
    "- Shark repellant => best spots\n",
    "- Insurance for surfers, premiums for high risk areas"
   ]
  }
 ],
 "metadata": {
  "kernelspec": {
   "display_name": "Python 3 (ipykernel)",
   "language": "python",
   "name": "python3"
  },
  "language_info": {
   "codemirror_mode": {
    "name": "ipython",
    "version": 3
   },
   "file_extension": ".py",
   "mimetype": "text/x-python",
   "name": "python",
   "nbconvert_exporter": "python",
   "pygments_lexer": "ipython3",
   "version": "3.12.4"
  }
 },
 "nbformat": 4,
 "nbformat_minor": 4
}
